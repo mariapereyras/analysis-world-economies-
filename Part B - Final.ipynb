{
 "cells": [
  {
   "cell_type": "markdown",
   "metadata": {},
   "source": [
    "# CIS9650 - Final  - Part B\n",
    "## Group 2 - Annual Subway Ridership - 2019 vs. 2020\n",
    "Maria Pereyra <br>\n",
    "Daiana Vega <br>\n",
    "Valerie Alvarez <br>\n",
    "Nubia Stefany Palacios <br>\n",
    "\n",
    "***\n",
    "We chose to analyze the dataset of Annual Subway Ridership, specifically focusing on the data between 2019 and 2020 and taking a look at the major components and variables that could be the reason behind any major discrepancies or decreasing behaviors across subway ridership between the two years."
   ]
  },
  {
   "cell_type": "code",
   "execution_count": 5,
   "metadata": {},
   "outputs": [],
   "source": [
    "import pandas\n",
    "import numpy\n",
    "import matplotlib.pyplot as plot\n",
    "from pandas import DataFrame\n",
    "from pandas import Series, DataFrame\n",
    "import seaborn\n",
    "\n",
    "# Importing the necessary packages for us to be able to use aggregators in our data and visualizations\n",
    "# such as bar graphs and scatter plots"
   ]
  },
  {
   "cell_type": "code",
   "execution_count": null,
   "metadata": {},
   "outputs": [],
   "source": [
    "## Our dataset for Annual Subway Ridership was found \n",
    "## on the MTA website --> https://new.mta.info/agency/new-york-city-transit/subway-bus-ridership-2020"
   ]
  },
  {
   "cell_type": "code",
   "execution_count": 6,
   "metadata": {},
   "outputs": [
    {
     "name": "stdout",
     "output_type": "stream",
     "text": [
      "424\n",
      "10\n"
     ]
    }
   ],
   "source": [
    "data=pandas.read_csv(r'C:\\Users\\daian\\Desktop\\AnnualSubwayRidership_2019_vs_2020.csv')\n",
    "# creating data from CSV file imported\n",
    "# We had to format the original CSV file, remove decimals and commas and convert the number fields to numbers rather than text, since we\n",
    "# we having issues aggregating integers that were being picked up as strings.\n",
    "\n",
    "print(len(data))\n",
    "print(len(data.columns))\n",
    "\n",
    "\n",
    "# This tells us that our dataframe has 424 rows and 10 columns"
   ]
  },
  {
   "cell_type": "code",
   "execution_count": 7,
   "metadata": {},
   "outputs": [
    {
     "name": "stdout",
     "output_type": "stream",
     "text": [
      "                                        Station Boro     2015     2016  \\\n",
      "0                  138 St-Grand Concourse (4,5)   Bx  1056380  1070024   \n",
      "1                149 St-Grand Concourse (2,4,5)   Bx  4424754  4381900   \n",
      "2                 161 St-Yankee Stadium (B,D,4)   Bx  8922188  8784407   \n",
      "3                                    167 St (4)   Bx  3180274  3179087   \n",
      "4                                  167 St (B,D)   Bx  3295032  3365748   \n",
      "..                                          ...  ...      ...      ...   \n",
      "419  Sutphin Blvd-Archer Av-JFK Airport (E,J,Z)    Q  7767728  7904869   \n",
      "420                  Vernon Blvd-Jackson Av (7)    Q  4462652  4877185   \n",
      "421                        Woodhaven Blvd (J,Z)    Q  1551590  1513298   \n",
      "422                        Woodhaven Blvd (M,R)    Q  7120037  7144921   \n",
      "423                          Woodside-61 St (7)    Q  5432682  5511564   \n",
      "\n",
      "        2017     2018     2019     2020  2019-2020 Change  2019-2020 Change %  \n",
      "0    1036746   944598  1035878   371408           -664470               -0.64  \n",
      "1    4255015  3972763  3931908  1815785          -2116123               -0.54  \n",
      "2    8596506  8392290  8254928  3221651          -5033277               -0.61  \n",
      "3    2954228  2933140  2653237  1396287          -1256950               -0.47  \n",
      "4    3293451  2022919  2734530  1422149          -1312381               -0.48  \n",
      "..       ...      ...      ...      ...               ...                 ...  \n",
      "419  7457153  7282128  7354064  2951061          -4403003               -0.60  \n",
      "420  4821191  4493326  4623070  1768317          -2854753               -0.62  \n",
      "421  1512676  1370889  1337787   681796           -655991               -0.49  \n",
      "422  6871409  6509386  6381132  2634483          -3746649               -0.59  \n",
      "423  5457171  5282486  5345369  2391083          -2954286               -0.55  \n",
      "\n",
      "[424 rows x 10 columns]\n"
     ]
    }
   ],
   "source": [
    "fields = ['Station', 'Boro','2015','2016',\n",
    "          '2017', '2018','2019', '2020', '2019-2020 Change', '2019-2020 Change %']\n",
    " \n",
    "read_data = pandas.read_csv(r'C:\\Users\\daian\\Desktop\\AnnualSubwayRidership_2019_vs_2020.csv', skipinitialspace=True, usecols=fields)\n",
    "df=pandas.DataFrame(read_data)\n",
    "\n",
    "print(df)\n",
    "\n",
    "# Creating a dataframe using pandas with the column names as listed above in \"fields\" and we use SkipinitialSpace \n",
    "# to remove all the white spaces after the delimiter.\n",
    "\n",
    "# Printing the dataframe df"
   ]
  },
  {
   "cell_type": "code",
   "execution_count": 4,
   "metadata": {},
   "outputs": [],
   "source": [
    "#print(data)"
   ]
  },
  {
   "cell_type": "code",
   "execution_count": 8,
   "metadata": {},
   "outputs": [
    {
     "data": {
      "text/plain": [
       "Index(['Station', 'Boro', '2015', '2016', '2017', '2018', '2019', '2020',\n",
       "       '2019-2020 Change', '2019-2020 Change %'],\n",
       "      dtype='object')"
      ]
     },
     "execution_count": 8,
     "metadata": {},
     "output_type": "execute_result"
    }
   ],
   "source": [
    "# Looking at the column names from our df\n",
    "data.columns"
   ]
  },
  {
   "cell_type": "code",
   "execution_count": 9,
   "metadata": {},
   "outputs": [
    {
     "data": {
      "text/plain": [
       "Station                object\n",
       "Boro                   object\n",
       "2015                    int64\n",
       "2016                    int64\n",
       "2017                    int64\n",
       "2018                    int64\n",
       "2019                    int64\n",
       "2020                    int64\n",
       "2019-2020 Change        int64\n",
       "2019-2020 Change %    float64\n",
       "dtype: object"
      ]
     },
     "execution_count": 9,
     "metadata": {},
     "output_type": "execute_result"
    }
   ],
   "source": [
    "# Datatypes of all the columns\n",
    "df.dtypes"
   ]
  },
  {
   "cell_type": "code",
   "execution_count": 12,
   "metadata": {},
   "outputs": [
    {
     "data": {
      "text/html": [
       "<div>\n",
       "<style scoped>\n",
       "    .dataframe tbody tr th:only-of-type {\n",
       "        vertical-align: middle;\n",
       "    }\n",
       "\n",
       "    .dataframe tbody tr th {\n",
       "        vertical-align: top;\n",
       "    }\n",
       "\n",
       "    .dataframe thead th {\n",
       "        text-align: right;\n",
       "    }\n",
       "</style>\n",
       "<table border=\"1\" class=\"dataframe\">\n",
       "  <thead>\n",
       "    <tr style=\"text-align: right;\">\n",
       "      <th></th>\n",
       "      <th>Station</th>\n",
       "      <th>Boro</th>\n",
       "      <th>2015</th>\n",
       "      <th>2016</th>\n",
       "      <th>2017</th>\n",
       "      <th>2018</th>\n",
       "      <th>2019</th>\n",
       "      <th>2020</th>\n",
       "      <th>2019-2020 Change</th>\n",
       "      <th>2019-2020 Change %</th>\n",
       "    </tr>\n",
       "  </thead>\n",
       "  <tbody>\n",
       "    <tr>\n",
       "      <th>0</th>\n",
       "      <td>138 St-Grand Concourse (4,5)</td>\n",
       "      <td>Bx</td>\n",
       "      <td>1056380</td>\n",
       "      <td>1070024</td>\n",
       "      <td>1036746</td>\n",
       "      <td>944598</td>\n",
       "      <td>1035878</td>\n",
       "      <td>371408</td>\n",
       "      <td>-664470</td>\n",
       "      <td>-0.64</td>\n",
       "    </tr>\n",
       "    <tr>\n",
       "      <th>1</th>\n",
       "      <td>149 St-Grand Concourse (2,4,5)</td>\n",
       "      <td>Bx</td>\n",
       "      <td>4424754</td>\n",
       "      <td>4381900</td>\n",
       "      <td>4255015</td>\n",
       "      <td>3972763</td>\n",
       "      <td>3931908</td>\n",
       "      <td>1815785</td>\n",
       "      <td>-2116123</td>\n",
       "      <td>-0.54</td>\n",
       "    </tr>\n",
       "    <tr>\n",
       "      <th>2</th>\n",
       "      <td>161 St-Yankee Stadium (B,D,4)</td>\n",
       "      <td>Bx</td>\n",
       "      <td>8922188</td>\n",
       "      <td>8784407</td>\n",
       "      <td>8596506</td>\n",
       "      <td>8392290</td>\n",
       "      <td>8254928</td>\n",
       "      <td>3221651</td>\n",
       "      <td>-5033277</td>\n",
       "      <td>-0.61</td>\n",
       "    </tr>\n",
       "    <tr>\n",
       "      <th>3</th>\n",
       "      <td>167 St (4)</td>\n",
       "      <td>Bx</td>\n",
       "      <td>3180274</td>\n",
       "      <td>3179087</td>\n",
       "      <td>2954228</td>\n",
       "      <td>2933140</td>\n",
       "      <td>2653237</td>\n",
       "      <td>1396287</td>\n",
       "      <td>-1256950</td>\n",
       "      <td>-0.47</td>\n",
       "    </tr>\n",
       "    <tr>\n",
       "      <th>4</th>\n",
       "      <td>167 St (B,D)</td>\n",
       "      <td>Bx</td>\n",
       "      <td>3295032</td>\n",
       "      <td>3365748</td>\n",
       "      <td>3293451</td>\n",
       "      <td>2022919</td>\n",
       "      <td>2734530</td>\n",
       "      <td>1422149</td>\n",
       "      <td>-1312381</td>\n",
       "      <td>-0.48</td>\n",
       "    </tr>\n",
       "    <tr>\n",
       "      <th>5</th>\n",
       "      <td>170 St (4)</td>\n",
       "      <td>Bx</td>\n",
       "      <td>3045205</td>\n",
       "      <td>3038777</td>\n",
       "      <td>2785331</td>\n",
       "      <td>2562443</td>\n",
       "      <td>2487611</td>\n",
       "      <td>1265950</td>\n",
       "      <td>-1221661</td>\n",
       "      <td>-0.49</td>\n",
       "    </tr>\n",
       "    <tr>\n",
       "      <th>6</th>\n",
       "      <td>170 St (B,D)</td>\n",
       "      <td>Bx</td>\n",
       "      <td>2286670</td>\n",
       "      <td>2317558</td>\n",
       "      <td>2270027</td>\n",
       "      <td>2454974</td>\n",
       "      <td>2130461</td>\n",
       "      <td>1002095</td>\n",
       "      <td>-1128366</td>\n",
       "      <td>-0.53</td>\n",
       "    </tr>\n",
       "    <tr>\n",
       "      <th>7</th>\n",
       "      <td>174 St (2,5)</td>\n",
       "      <td>Bx</td>\n",
       "      <td>2313651</td>\n",
       "      <td>2411413</td>\n",
       "      <td>2334317</td>\n",
       "      <td>2056692</td>\n",
       "      <td>2057118</td>\n",
       "      <td>953564</td>\n",
       "      <td>-1103554</td>\n",
       "      <td>-0.54</td>\n",
       "    </tr>\n",
       "    <tr>\n",
       "      <th>8</th>\n",
       "      <td>174-175 Sts (B,D)</td>\n",
       "      <td>Bx</td>\n",
       "      <td>1695879</td>\n",
       "      <td>1752387</td>\n",
       "      <td>1735321</td>\n",
       "      <td>1005075</td>\n",
       "      <td>1518260</td>\n",
       "      <td>788121</td>\n",
       "      <td>-730139</td>\n",
       "      <td>-0.48</td>\n",
       "    </tr>\n",
       "    <tr>\n",
       "      <th>9</th>\n",
       "      <td>176 St (4)</td>\n",
       "      <td>Bx</td>\n",
       "      <td>1969221</td>\n",
       "      <td>2036529</td>\n",
       "      <td>1943854</td>\n",
       "      <td>1803691</td>\n",
       "      <td>1713696</td>\n",
       "      <td>876865</td>\n",
       "      <td>-836831</td>\n",
       "      <td>-0.49</td>\n",
       "    </tr>\n",
       "  </tbody>\n",
       "</table>\n",
       "</div>"
      ],
      "text/plain": [
       "                          Station Boro     2015     2016     2017     2018  \\\n",
       "0    138 St-Grand Concourse (4,5)   Bx  1056380  1070024  1036746   944598   \n",
       "1  149 St-Grand Concourse (2,4,5)   Bx  4424754  4381900  4255015  3972763   \n",
       "2   161 St-Yankee Stadium (B,D,4)   Bx  8922188  8784407  8596506  8392290   \n",
       "3                      167 St (4)   Bx  3180274  3179087  2954228  2933140   \n",
       "4                    167 St (B,D)   Bx  3295032  3365748  3293451  2022919   \n",
       "5                      170 St (4)   Bx  3045205  3038777  2785331  2562443   \n",
       "6                    170 St (B,D)   Bx  2286670  2317558  2270027  2454974   \n",
       "7                    174 St (2,5)   Bx  2313651  2411413  2334317  2056692   \n",
       "8               174-175 Sts (B,D)   Bx  1695879  1752387  1735321  1005075   \n",
       "9                      176 St (4)   Bx  1969221  2036529  1943854  1803691   \n",
       "\n",
       "      2019     2020  2019-2020 Change  2019-2020 Change %  \n",
       "0  1035878   371408           -664470               -0.64  \n",
       "1  3931908  1815785          -2116123               -0.54  \n",
       "2  8254928  3221651          -5033277               -0.61  \n",
       "3  2653237  1396287          -1256950               -0.47  \n",
       "4  2734530  1422149          -1312381               -0.48  \n",
       "5  2487611  1265950          -1221661               -0.49  \n",
       "6  2130461  1002095          -1128366               -0.53  \n",
       "7  2057118   953564          -1103554               -0.54  \n",
       "8  1518260   788121           -730139               -0.48  \n",
       "9  1713696   876865           -836831               -0.49  "
      ]
     },
     "execution_count": 12,
     "metadata": {},
     "output_type": "execute_result"
    }
   ],
   "source": [
    "# The head() method displays the first several lines of a file.\n",
    "# look at the first n items with the head method\n",
    "df.head(10)"
   ]
  },
  {
   "cell_type": "code",
   "execution_count": 13,
   "metadata": {},
   "outputs": [
    {
     "data": {
      "text/plain": [
       "Station               0\n",
       "Boro                  0\n",
       "2015                  0\n",
       "2016                  0\n",
       "2017                  0\n",
       "2018                  0\n",
       "2019                  0\n",
       "2020                  0\n",
       "2019-2020 Change      0\n",
       "2019-2020 Change %    0\n",
       "dtype: int64"
      ]
     },
     "execution_count": 13,
     "metadata": {},
     "output_type": "execute_result"
    }
   ],
   "source": [
    "df.isna().sum()\n",
    "\n",
    "##checking for empty cells but we have no empty cells in our dataframe"
   ]
  },
  {
   "cell_type": "code",
   "execution_count": 9,
   "metadata": {},
   "outputs": [
    {
     "data": {
      "text/plain": [
       "145 St (A,B,C,D)                           1\n",
       "Whitlock Av (6)                            1\n",
       "West 4 St-Washington Sq (A,B,C,D,E,F,M)    1\n",
       "Buhre Av (6)                               1\n",
       "Franklin St (1)                            1\n",
       "                                          ..\n",
       "145 St (3)                                 1\n",
       "Jefferson St (L)                           1\n",
       "Dyckman St (A)                             1\n",
       "Zerega Av (6)                              1\n",
       "30 Av (N,W)                                1\n",
       "Name: Station, Length: 424, dtype: int64"
      ]
     },
     "execution_count": 9,
     "metadata": {},
     "output_type": "execute_result"
    }
   ],
   "source": [
    "df.Station.value_counts()\n",
    "\n",
    "#Using this method to count each unique Station Name value, we notice each one is unique.\n",
    "# There are 424 stations total, each one unique with Brooklyn having the most stations compared to the other boroughs"
   ]
  },
  {
   "cell_type": "code",
   "execution_count": 10,
   "metadata": {},
   "outputs": [
    {
     "data": {
      "text/plain": [
       "B     157\n",
       "M     121\n",
       "Q      78\n",
       "Bx     68\n",
       "Name: Boro, dtype: int64"
      ]
     },
     "execution_count": 10,
     "metadata": {},
     "output_type": "execute_result"
    }
   ],
   "source": [
    "df.Boro.value_counts()\n",
    "\n",
    "# Similar method to above, but trying to count stations per Borough using a Boro count.\n",
    "# With four boroughs total, and the boroughs with the most and least stations and Brooklyn and the Bronx, respectively."
   ]
  },
  {
   "cell_type": "code",
   "execution_count": 18,
   "metadata": {},
   "outputs": [
    {
     "data": {
      "text/html": [
       "<div>\n",
       "<style scoped>\n",
       "    .dataframe tbody tr th:only-of-type {\n",
       "        vertical-align: middle;\n",
       "    }\n",
       "\n",
       "    .dataframe tbody tr th {\n",
       "        vertical-align: top;\n",
       "    }\n",
       "\n",
       "    .dataframe thead th {\n",
       "        text-align: right;\n",
       "    }\n",
       "</style>\n",
       "<table border=\"1\" class=\"dataframe\">\n",
       "  <thead>\n",
       "    <tr style=\"text-align: right;\">\n",
       "      <th></th>\n",
       "      <th>2015</th>\n",
       "      <th>2016</th>\n",
       "      <th>2017</th>\n",
       "      <th>2018</th>\n",
       "      <th>2019</th>\n",
       "      <th>2020</th>\n",
       "      <th>2019-2020 Change</th>\n",
       "      <th>2019-2020 Change %</th>\n",
       "    </tr>\n",
       "  </thead>\n",
       "  <tbody>\n",
       "    <tr>\n",
       "      <th>count</th>\n",
       "      <td>424.00</td>\n",
       "      <td>424.00</td>\n",
       "      <td>424.00</td>\n",
       "      <td>424.00</td>\n",
       "      <td>424.00</td>\n",
       "      <td>424.00</td>\n",
       "      <td>424.00</td>\n",
       "      <td>424.00</td>\n",
       "    </tr>\n",
       "    <tr>\n",
       "      <th>mean</th>\n",
       "      <td>4,156,903.42</td>\n",
       "      <td>4,143,384.08</td>\n",
       "      <td>4,073,772.66</td>\n",
       "      <td>3,962,436.28</td>\n",
       "      <td>4,004,214.63</td>\n",
       "      <td>1,508,351.48</td>\n",
       "      <td>-2,495,863.14</td>\n",
       "      <td>-0.58</td>\n",
       "    </tr>\n",
       "    <tr>\n",
       "      <th>std</th>\n",
       "      <td>5,980,450.26</td>\n",
       "      <td>5,913,184.51</td>\n",
       "      <td>5,814,643.95</td>\n",
       "      <td>5,790,269.88</td>\n",
       "      <td>5,794,430.91</td>\n",
       "      <td>1,855,314.68</td>\n",
       "      <td>3,971,782.51</td>\n",
       "      <td>0.09</td>\n",
       "    </tr>\n",
       "    <tr>\n",
       "      <th>min</th>\n",
       "      <td>0.00</td>\n",
       "      <td>0.00</td>\n",
       "      <td>0.00</td>\n",
       "      <td>82,248.00</td>\n",
       "      <td>88,439.00</td>\n",
       "      <td>35,837.00</td>\n",
       "      <td>-44,679,054.00</td>\n",
       "      <td>-0.85</td>\n",
       "    </tr>\n",
       "    <tr>\n",
       "      <th>25%</th>\n",
       "      <td>1,390,930.75</td>\n",
       "      <td>1,348,371.25</td>\n",
       "      <td>1,335,504.50</td>\n",
       "      <td>1,278,649.00</td>\n",
       "      <td>1,343,652.75</td>\n",
       "      <td>585,520.25</td>\n",
       "      <td>-2,860,921.75</td>\n",
       "      <td>-0.63</td>\n",
       "    </tr>\n",
       "    <tr>\n",
       "      <th>50%</th>\n",
       "      <td>2,319,542.00</td>\n",
       "      <td>2,347,741.00</td>\n",
       "      <td>2,317,269.00</td>\n",
       "      <td>2,224,721.50</td>\n",
       "      <td>2,213,922.50</td>\n",
       "      <td>962,542.00</td>\n",
       "      <td>-1,261,816.50</td>\n",
       "      <td>-0.57</td>\n",
       "    </tr>\n",
       "    <tr>\n",
       "      <th>75%</th>\n",
       "      <td>4,578,506.75</td>\n",
       "      <td>4,549,840.00</td>\n",
       "      <td>4,557,255.00</td>\n",
       "      <td>4,456,708.00</td>\n",
       "      <td>4,510,148.75</td>\n",
       "      <td>1,714,134.00</td>\n",
       "      <td>-700,692.00</td>\n",
       "      <td>-0.53</td>\n",
       "    </tr>\n",
       "    <tr>\n",
       "      <th>max</th>\n",
       "      <td>66,359,208.00</td>\n",
       "      <td>64,531,511.00</td>\n",
       "      <td>64,815,739.00</td>\n",
       "      <td>65,060,656.00</td>\n",
       "      <td>65,020,294.00</td>\n",
       "      <td>20,341,240.00</td>\n",
       "      <td>330,622.00</td>\n",
       "      <td>0.46</td>\n",
       "    </tr>\n",
       "  </tbody>\n",
       "</table>\n",
       "</div>"
      ],
      "text/plain": [
       "               2015          2016          2017          2018          2019  \\\n",
       "count        424.00        424.00        424.00        424.00        424.00   \n",
       "mean   4,156,903.42  4,143,384.08  4,073,772.66  3,962,436.28  4,004,214.63   \n",
       "std    5,980,450.26  5,913,184.51  5,814,643.95  5,790,269.88  5,794,430.91   \n",
       "min            0.00          0.00          0.00     82,248.00     88,439.00   \n",
       "25%    1,390,930.75  1,348,371.25  1,335,504.50  1,278,649.00  1,343,652.75   \n",
       "50%    2,319,542.00  2,347,741.00  2,317,269.00  2,224,721.50  2,213,922.50   \n",
       "75%    4,578,506.75  4,549,840.00  4,557,255.00  4,456,708.00  4,510,148.75   \n",
       "max   66,359,208.00 64,531,511.00 64,815,739.00 65,060,656.00 65,020,294.00   \n",
       "\n",
       "               2020  2019-2020 Change  2019-2020 Change %  \n",
       "count        424.00            424.00              424.00  \n",
       "mean   1,508,351.48     -2,495,863.14               -0.58  \n",
       "std    1,855,314.68      3,971,782.51                0.09  \n",
       "min       35,837.00    -44,679,054.00               -0.85  \n",
       "25%      585,520.25     -2,860,921.75               -0.63  \n",
       "50%      962,542.00     -1,261,816.50               -0.57  \n",
       "75%    1,714,134.00       -700,692.00               -0.53  \n",
       "max   20,341,240.00        330,622.00                0.46  "
      ]
     },
     "execution_count": 18,
     "metadata": {},
     "output_type": "execute_result"
    }
   ],
   "source": [
    "pandas.options.display.float_format = '{:,.2f}'.format\n",
    "df.describe()\n",
    "\n",
    "# Using pandas to import this function, we use this code describe() to display a summary of some of the more important metrics for subway rider data, per year. \n",
    "# The important metrics being count, mean, min, max, etc. The describe() method is used for calculating some statistical \n",
    "# data like percentile, mean and std of the numerical values of the Series or DataFrame\n",
    "# we format our data to have 2 decimal places using format {:, .2F} PS. 1F would give you 1 decimal place"
   ]
  },
  {
   "cell_type": "code",
   "execution_count": 23,
   "metadata": {},
   "outputs": [
    {
     "data": {
      "text/plain": [
       "count     424\n",
       "unique      4\n",
       "top         B\n",
       "freq      157\n",
       "Name: Boro, dtype: object"
      ]
     },
     "execution_count": 23,
     "metadata": {},
     "output_type": "execute_result"
    },
    {
     "data": {
      "image/png": "[encoded data removed]",
      "text/plain": [
       "<Figure size 432x288 with 1 Axes>"
      ]
     },
     "metadata": {
      "needs_background": "light"
     },
     "output_type": "display_data"
    }
   ],
   "source": [
    "# matplotlib inline\n",
    "# We use the package Seaborn\n",
    "seaborn.countplot(x='Boro', data=df)\n",
    "plot.xlabel(\"Borough Name\")\n",
    "plot.ylabel(\"Amount\")\n",
    "plot.title(\"Amount of Stations by Borough\")\n",
    "plot.xticks(rotation=45)\n",
    "\n",
    "df[\"Boro\"].describe()\n",
    "\n",
    "## We use the code above to display a bar graph that shows us that the borough with the most stations is Brooklyn (B) \n",
    "## and the borough with the least stations is the Bronx (Bx)"
   ]
  },
  {
   "cell_type": "code",
   "execution_count": 17,
   "metadata": {},
   "outputs": [
    {
     "name": "stdout",
     "output_type": "stream",
     "text": [
      "                                        Station Boro     2015     2016  \\\n",
      "419  Sutphin Blvd-Archer Av-JFK Airport (E,J,Z)    Q  7767728  7904869   \n",
      "420                  Vernon Blvd-Jackson Av (7)    Q  4462652  4877185   \n",
      "421                        Woodhaven Blvd (J,Z)    Q  1551590  1513298   \n",
      "422                        Woodhaven Blvd (M,R)    Q  7120037  7144921   \n",
      "423                          Woodside-61 St (7)    Q  5432682  5511564   \n",
      "\n",
      "        2017     2018     2019     2020  2019-2020 Change  2019-2020 Change %  \n",
      "419  7457153  7282128  7354064  2951061          -4403003                -0.6  \n",
      "420  4821191  4493326  4623070  1768317          -2854753                -0.6  \n",
      "421  1512676  1370889  1337787   681796           -655991                -0.5  \n",
      "422  6871409  6509386  6381132  2634483          -3746649                -0.6  \n",
      "423  5457171  5282486  5345369  2391083          -2954286                -0.6  \n"
     ]
    }
   ],
   "source": [
    "#We can also look at the last n rows by implementing the tail method\n",
    "print(data.tail(5))"
   ]
  },
  {
   "cell_type": "code",
   "execution_count": 19,
   "metadata": {},
   "outputs": [],
   "source": [
    "# Extract data from a single column\n",
    "#print(data.Boro)"
   ]
  },
  {
   "cell_type": "code",
   "execution_count": 20,
   "metadata": {},
   "outputs": [
    {
     "data": {
      "text/plain": [
       "False"
      ]
     },
     "execution_count": 20,
     "metadata": {},
     "output_type": "execute_result"
    }
   ],
   "source": [
    " # Check if a DataFrame is empty or not.. in this case, ours is not.\n",
    "data.empty"
   ]
  },
  {
   "cell_type": "code",
   "execution_count": 25,
   "metadata": {},
   "outputs": [
    {
     "data": {
      "image/png": "[encoded data removed]",
      "text/plain": [
       "<Figure size 288x720 with 1 Axes>"
      ]
     },
     "metadata": {
      "needs_background": "light"
     },
     "output_type": "display_data"
    },
    {
     "name": "stdout",
     "output_type": "stream",
     "text": [
      "******************************\n",
      "Boro                    Q\n",
      "2019-2020 Change %   0.46\n",
      "dtype: object\n",
      "******************************\n",
      "Boro                     B\n",
      "2019-2020 Change %   -0.85\n",
      "dtype: object\n",
      "******************************\n"
     ]
    }
   ],
   "source": [
    "column_x = 'Boro'\n",
    "column_y = '2019-2020 Change %'\n",
    "\n",
    "df = pandas.DataFrame(data,columns=[column_x,column_y])\n",
    "df.plot(x =column_x, y=column_y, kind = 'scatter', figsize=(4, 10), color=\"orange\")\n",
    "\n",
    "plot.show()\n",
    "\n",
    "# We use this code to plot a scatter plot by Borough and the values from 2019-2020 Change (%) \n",
    "# to see the delta values displayed for the years we are interested in investigating, \n",
    "# the changes in ridership from 201 to 2020\n",
    "# Queens had the most diverse change of rider counts between 2019-2020 across all its stations. \n",
    "# See below for highest % change in 2019-2020\n",
    "\n",
    "print('******************************')\n",
    "\n",
    "maxValues = df.max()\n",
    "print(maxValues)\n",
    "print('******************************')\n",
    "minValues = df.min()\n",
    "print(minValues)\n",
    "print('******************************')"
   ]
  },
  {
   "cell_type": "code",
   "execution_count": 22,
   "metadata": {},
   "outputs": [
    {
     "name": "stdout",
     "output_type": "stream",
     "text": [
      "<pandas.core.groupby.generic.DataFrameGroupBy object at 0x0000025A625DCCD0>\n"
     ]
    }
   ],
   "source": [
    "g = data.groupby('Boro')\n",
    "print(g)\n",
    "\n",
    "#group our data by Boro to be able to sum up riders per year in the following codes:"
   ]
  },
  {
   "cell_type": "code",
   "execution_count": 23,
   "metadata": {},
   "outputs": [
    {
     "data": {
      "text/plain": [
       "Boro\n",
       "B             0\n",
       "Bx    138381037\n",
       "M             0\n",
       "Q             0\n",
       "dtype: int64"
      ]
     },
     "execution_count": 23,
     "metadata": {},
     "output_type": "execute_result"
    }
   ],
   "source": [
    "# the following codes are invoking the lambda function and allows us to sum the values (in this case, from column \"2019\" wh)\n",
    "# where the values in column \"Boro\" are Bx, to let us see the totalsum of riders in the Bronx in the year 2019. We repeated \n",
    "# this step for all boroughs in 2019. This is basically the SUMIF feature from Excel, in Python\n",
    "\n",
    "\n",
    "g.apply(lambda x: x[x['Boro'] == 'Bx']['2019'].sum())\n",
    "#grabbing the sum of riders in 2019 in the Bronx"
   ]
  },
  {
   "cell_type": "code",
   "execution_count": 24,
   "metadata": {},
   "outputs": [
    {
     "data": {
      "text/plain": [
       "Boro\n",
       "B     370545959\n",
       "Bx            0\n",
       "M             0\n",
       "Q             0\n",
       "dtype: int64"
      ]
     },
     "execution_count": 24,
     "metadata": {},
     "output_type": "execute_result"
    }
   ],
   "source": [
    "g.apply(lambda x: x[x['Boro'] == 'B']['2019'].sum())\n",
    "\n",
    "#grabbing the sum of riders in 2019 in Brooklyn"
   ]
  },
  {
   "cell_type": "code",
   "execution_count": 25,
   "metadata": {},
   "outputs": [
    {
     "data": {
      "text/plain": [
       "Boro\n",
       "B             0\n",
       "Bx            0\n",
       "M     952710327\n",
       "Q             0\n",
       "dtype: int64"
      ]
     },
     "execution_count": 25,
     "metadata": {},
     "output_type": "execute_result"
    }
   ],
   "source": [
    "g.apply(lambda x: x[x['Boro'] == 'M']['2019'].sum())\n",
    "\n",
    "#grabbing the sum of riders in 2019 in Manhattan"
   ]
  },
  {
   "cell_type": "code",
   "execution_count": 26,
   "metadata": {},
   "outputs": [
    {
     "data": {
      "text/plain": [
       "Boro\n",
       "B             0\n",
       "Bx            0\n",
       "M             0\n",
       "Q     236149679\n",
       "dtype: int64"
      ]
     },
     "execution_count": 26,
     "metadata": {},
     "output_type": "execute_result"
    }
   ],
   "source": [
    "g.apply(lambda x: x[x['Boro'] == 'Q']['2019'].sum())\n",
    "\n",
    "#grabbing the sum of riders in 2019 in Queens"
   ]
  },
  {
   "cell_type": "code",
   "execution_count": 27,
   "metadata": {},
   "outputs": [
    {
     "name": "stdout",
     "output_type": "stream",
     "text": [
      "65020294\n",
      "20341240\n"
     ]
    },
    {
     "data": {
      "text/plain": [
       "-68.71555210131778"
      ]
     },
     "execution_count": 27,
     "metadata": {},
     "output_type": "execute_result"
    }
   ],
   "source": [
    "a = data['2019'].max()\n",
    "print(a)\n",
    "\n",
    "b = data['2020'].max()\n",
    "print(b)\n",
    "\n",
    "((b - a) / a)*100\n",
    "\n",
    "# Finding the max riders from  2019 and the max riders in 2020 and calculating their percent change \n",
    "# There was -68% change between the max amount of riders in any given station in 2019 vs in 2020"
   ]
  },
  {
   "cell_type": "code",
   "execution_count": 28,
   "metadata": {},
   "outputs": [
    {
     "name": "stdout",
     "output_type": "stream",
     "text": [
      "65020294\n",
      "65060656\n"
     ]
    },
    {
     "data": {
      "text/plain": [
       "-0.06203749313563638"
      ]
     },
     "execution_count": 28,
     "metadata": {},
     "output_type": "execute_result"
    }
   ],
   "source": [
    "a = data['2019'].max()\n",
    "print(a)\n",
    "\n",
    "c = data['2018'].max()\n",
    "print(c)\n",
    "\n",
    "((a - c) / c) * 100\n",
    "\n",
    "# Similarly to above, but trying to find the percent change from 2018 to 2019 in order to compare.\n",
    "# Unlike the difference between the max amount of riders in any station between 2019 and 2020, \n",
    "# The difference between 2018 and 2019 is minimal"
   ]
  },
  {
   "cell_type": "markdown",
   "metadata": {},
   "source": [
    "# Conclusion\n",
    "\n",
    "Given that the difference of annual ridership between 2018 and 2019 was so insignificant, and no variable stuck out as being a deciding factor in total annual counts, we believe that the reason there was such a decrease between 2019 and 2020 was due to Covid, where the majority of usual annual subway riders were now staying home more frequently.\n",
    "\n",
    "## ****************************************"
   ]
  }
 ],
 "metadata": {
  "kernelspec": {
   "display_name": "Python 3",
   "language": "python",
   "name": "python3"
  },
  "language_info": {
   "codemirror_mode": {
    "name": "ipython",
    "version": 3
   },
   "file_extension": ".py",
   "mimetype": "text/x-python",
   "name": "python",
   "nbconvert_exporter": "python",
   "pygments_lexer": "ipython3",
   "version": "3.8.8"
  }
 },
 "nbformat": 4,
 "nbformat_minor": 4
}
