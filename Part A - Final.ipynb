{
 "cells": [
  {
   "cell_type": "markdown",
   "metadata": {},
   "source": [
    "# CIS9650 - Final Project - Part A\n",
    "## Group 2 - Top 10 Economies in the World\n",
    "\n",
    "Maria Pereyra <br>\n",
    "Daiana Vega <br>\n",
    "Valerie Alvarez <br>\n",
    "Nubia Stefany Palacios <br>\n",
    "\n",
    "## *******************************************\n",
    "For the first part of our final project, our group decided to scrape data from Investopedia.com and investigate the countries that have the best economies in the world. We used BeautifulSoup to parse data and decided to focus on the top 10 countries to give our readers a more simplified and organized view to compare the top 10 countries and their economical data by way of a dataframe. We took our final results and exported them into a CSV file."
   ]
  },
  {
   "cell_type": "code",
   "execution_count": 17,
   "metadata": {
    "scrolled": false
   },
   "outputs": [
    {
     "name": "stdout",
     "output_type": "stream",
     "text": [
      "[<tr>\n",
      "<td>United States</td>\n",
      "<td>$21.43</td>\n",
      "<td>$21.43</td>\n",
      "<td>2.2%</td>\n",
      "<td>$65,298</td>\n",
      "</tr>, <tr>\n",
      "<td>China</td>\n",
      "<td>$14.34</td>\n",
      "<td>$23.52</td>\n",
      "<td>6.1%</td>\n",
      "<td>$10,262</td>\n",
      "</tr>, <tr>\n",
      "<td>Japan</td>\n",
      "<td>$5.08</td>\n",
      "<td>$5.46</td>\n",
      "<td>0.7%</td>\n",
      "<td>$40,247</td>\n",
      "</tr>, <tr>\n",
      "<td>Germany</td>\n",
      "<td>$3.86</td>\n",
      "<td>$4.68</td>\n",
      "<td>0.6%</td>\n",
      "<td>$46,445</td>\n",
      "</tr>, <tr>\n",
      "<td>India</td>\n",
      "<td>$2.87</td>\n",
      "<td>$9.56</td>\n",
      "<td>4.2%</td>\n",
      "<td>$2,100</td>\n",
      "</tr>, <tr>\n",
      "<td>United Kingdom</td>\n",
      "<td>$2.83</td>\n",
      "<td>$3.25</td>\n",
      "<td>1.5%</td>\n",
      "<td>$42,330</td>\n",
      "</tr>, <tr>\n",
      "<td>France</td>\n",
      "<td>$2.72</td>\n",
      "<td>$3.32</td>\n",
      "<td>1.5%</td>\n",
      "<td>$40,493.9</td>\n",
      "</tr>, <tr>\n",
      "<td>Italy</td>\n",
      "<td>$2.00</td>\n",
      "<td>$2.67</td>\n",
      "<td>0.3%</td>\n",
      "<td>$33,228.2</td>\n",
      "</tr>, <tr>\n",
      "<td>Brazil</td>\n",
      "<td>$1.84</td>\n",
      "<td>$3.23</td>\n",
      "<td>1.1%</td>\n",
      "<td>$8,717</td>\n",
      "</tr>, <tr>\n",
      "<td>Canada</td>\n",
      "<td>$1.74</td>\n",
      "<td>$1.93</td>\n",
      "<td>1.7%</td>\n",
      "<td>$46,195</td>\n",
      "</tr>]\n"
     ]
    }
   ],
   "source": [
    "from bs4 import BeautifulSoup\n",
    "import requests\n",
    "import pandas as pd\n",
    "\n",
    "# The website that we chose:\n",
    "URL = \"https://www.investopedia.com/insights/worlds-top-economies\"\n",
    "\n",
    "HEADERS = ({'User-Agent':\n",
    "            'Mozilla/5.0 (X11; Linux x86_64) AppleWebKit/537.36 \\\n",
    "            (KHTML, like Gecko) Chrome/44.0.2403.157 Safari/537.36',\n",
    "            'Accept-Language': 'en-US, en;q=0.5'})\n",
    "\n",
    "# headers = user agent is data coming from the browser containing information such as the navigator(Mozilla) \n",
    "# and the language(en-US) \n",
    "# we are using it to obtain the information that we need from the website. Some websites don't return any information\n",
    "# for our requests, so the above code is necessary\n",
    "\n",
    "\n",
    "investopedia_response = requests.get(URL, headers=HEADERS)\n",
    "# investopedia_response= here we are obtaining all the information from the web site \n",
    "# we could print this: investopedia_response.txt to see it. \n",
    "\n",
    "soup = BeautifulSoup(investopedia_response.content, \"html.parser\")\n",
    "# soup = once we have the website, we are using the beautifulsoup library to use HTML to extract the information \n",
    "# that we need/want. \n",
    "\n",
    "rows = soup.select('div[class=\"mntl-sc-block-table__table-wrapper\"] tr:not(:first-child)')\n",
    "\n",
    "## rows = we used the select command to get exactly the data we needed by going to the website and finding \n",
    "## the source then finding the table with the countries div[class=\"mntl-sc-block-table__table-wrapper, \n",
    "## then we also selected all the rows from the table using the tr and we used not(:first-child) because we wanted all\n",
    "## the rows but the first one because that one only had the heading. this code returns a list of values. \n",
    "\n",
    "# printing the rows\n",
    "\n",
    "print(rows)\n",
    "# for item in rows:\n",
    "    # print(item)\n",
    "\n"
   ]
  },
  {
   "cell_type": "code",
   "execution_count": null,
   "metadata": {},
   "outputs": [],
   "source": [
    "## Question: What is the difference between find vs. select\n",
    "\n",
    "# \"Select\" finds multiple instances and returns a list, whereas \"find\" finds the first\n",
    "# We used find because when inspecting the page source, we found exactly where the chunk of data \n",
    "# we wanted to further investigate was, and we grabbed the div=class for it. In case the same div class showed up\n",
    "# somewhere else in the dataset,we wanted to make sure we were only grabbing the first/ the one we wanted."
   ]
  },
  {
   "cell_type": "code",
   "execution_count": 9,
   "metadata": {},
   "outputs": [
    {
     "name": "stdout",
     "output_type": "stream",
     "text": [
      "United States\n",
      "$21.43\n",
      "$21.43\n",
      "2.2%\n",
      "$65,298\n",
      "China\n",
      "$14.34\n",
      "$23.52\n",
      "6.1%\n",
      "$10,262\n",
      "Japan\n",
      "$5.08\n",
      "$5.46\n",
      "0.7%\n",
      "$40,247\n",
      "Germany\n",
      "$3.86\n",
      "$4.68\n",
      "0.6%\n",
      "$46,445\n",
      "India\n",
      "$2.87\n",
      "$9.56\n",
      "4.2%\n",
      "$2,100\n",
      "United Kingdom\n",
      "$2.83\n",
      "$3.25\n",
      "1.5%\n",
      "$42,330\n",
      "France\n",
      "$2.72\n",
      "$3.32\n",
      "1.5%\n",
      "$40,493.9\n",
      "Italy\n",
      "$2.00\n",
      "$2.67\n",
      "0.3%\n",
      "$33,228.2\n",
      "Brazil\n",
      "$1.84\n",
      "$3.23\n",
      "1.1%\n",
      "$8,717\n",
      "Canada\n",
      "$1.74\n",
      "$1.93\n",
      "1.7%\n",
      "$46,195\n"
     ]
    }
   ],
   "source": [
    "#viewing just data values\n",
    "\n",
    "data = rows \n",
    "\n",
    "for i in data:\n",
    "   print(i.text.strip())"
   ]
  },
  {
   "cell_type": "code",
   "execution_count": 18,
   "metadata": {},
   "outputs": [
    {
     "name": "stdout",
     "output_type": "stream",
     "text": [
      "['United States\\n$21.43\\n$21.43\\n2.2%\\n$65,298', 'China\\n$14.34\\n$23.52\\n6.1%\\n$10,262', 'Japan\\n$5.08\\n$5.46\\n0.7%\\n$40,247', 'Germany\\n$3.86\\n$4.68\\n0.6%\\n$46,445', 'India\\n$2.87\\n$9.56\\n4.2%\\n$2,100', 'United Kingdom\\n$2.83\\n$3.25\\n1.5%\\n$42,330', 'France\\n$2.72\\n$3.32\\n1.5%\\n$40,493.9', 'Italy\\n$2.00\\n$2.67\\n0.3%\\n$33,228.2', 'Brazil\\n$1.84\\n$3.23\\n1.1%\\n$8,717', 'Canada\\n$1.74\\n$1.93\\n1.7%\\n$46,195']\n"
     ]
    }
   ],
   "source": [
    "#taking the above values and inserting them into a list\n",
    "\n",
    "lst = []   \n",
    "for x in data:\n",
    "    lst.append(x.text.strip())\n",
    "print(lst)"
   ]
  },
  {
   "cell_type": "code",
   "execution_count": 4,
   "metadata": {},
   "outputs": [
    {
     "data": {
      "text/plain": [
       "[{'Country': 'United States',\n",
       "  'Nominal_GDP': '$21.43',\n",
       "  'PPP_Adjusted': '$21.43',\n",
       "  'Annual_Growth': '2.2%',\n",
       "  'GDP_Per_Capita': '$65,298'},\n",
       " {'Country': 'China',\n",
       "  'Nominal_GDP': '$14.34',\n",
       "  'PPP_Adjusted': '$23.52',\n",
       "  'Annual_Growth': '6.1%',\n",
       "  'GDP_Per_Capita': '$10,262'},\n",
       " {'Country': 'Japan',\n",
       "  'Nominal_GDP': '$5.08',\n",
       "  'PPP_Adjusted': '$5.46',\n",
       "  'Annual_Growth': '0.7%',\n",
       "  'GDP_Per_Capita': '$40,247'},\n",
       " {'Country': 'Germany',\n",
       "  'Nominal_GDP': '$3.86',\n",
       "  'PPP_Adjusted': '$4.68',\n",
       "  'Annual_Growth': '0.6%',\n",
       "  'GDP_Per_Capita': '$46,445'},\n",
       " {'Country': 'India',\n",
       "  'Nominal_GDP': '$2.87',\n",
       "  'PPP_Adjusted': '$9.56',\n",
       "  'Annual_Growth': '4.2%',\n",
       "  'GDP_Per_Capita': '$2,100'},\n",
       " {'Country': 'United Kingdom',\n",
       "  'Nominal_GDP': '$2.83',\n",
       "  'PPP_Adjusted': '$3.25',\n",
       "  'Annual_Growth': '1.5%',\n",
       "  'GDP_Per_Capita': '$42,330'},\n",
       " {'Country': 'France',\n",
       "  'Nominal_GDP': '$2.72',\n",
       "  'PPP_Adjusted': '$3.32',\n",
       "  'Annual_Growth': '1.5%',\n",
       "  'GDP_Per_Capita': '$40,493.9'},\n",
       " {'Country': 'Italy',\n",
       "  'Nominal_GDP': '$2.00',\n",
       "  'PPP_Adjusted': '$2.67',\n",
       "  'Annual_Growth': '0.3%',\n",
       "  'GDP_Per_Capita': '$33,228.2'},\n",
       " {'Country': 'Brazil',\n",
       "  'Nominal_GDP': '$1.84',\n",
       "  'PPP_Adjusted': '$3.23',\n",
       "  'Annual_Growth': '1.1%',\n",
       "  'GDP_Per_Capita': '$8,717'},\n",
       " {'Country': 'Canada',\n",
       "  'Nominal_GDP': '$1.74',\n",
       "  'PPP_Adjusted': '$1.93',\n",
       "  'Annual_Growth': '1.7%',\n",
       "  'GDP_Per_Capita': '$46,195'}]"
      ]
     },
     "execution_count": 4,
     "metadata": {},
     "output_type": "execute_result"
    }
   ],
   "source": [
    "top_countries = []\n",
    "\n",
    "for row in rows:\n",
    "    cells = row.select('td')\n",
    "    top_countries.append({\n",
    "        'Country': cells[0].text,\n",
    "        'Nominal_GDP': cells[1].text,\n",
    "        'PPP_Adjusted': cells[2].text,\n",
    "        'Annual_Growth': cells[3].text,\n",
    "        'GDP_Per_Capita': cells[4].text\n",
    "    })\n",
    "    \n",
    "top_countries\n",
    "## we created a list of dictionaries to differentiate the date for each country."
   ]
  },
  {
   "cell_type": "code",
   "execution_count": 5,
   "metadata": {
    "scrolled": true
   },
   "outputs": [
    {
     "name": "stdout",
     "output_type": "stream",
     "text": [
      "          Country Nominal_GDP PPP_Adjusted Annual_Growth GDP_Per_Capita\n",
      "0   United States      $21.43       $21.43          2.2%        $65,298\n",
      "1           China      $14.34       $23.52          6.1%        $10,262\n",
      "2           Japan       $5.08        $5.46          0.7%        $40,247\n",
      "3         Germany       $3.86        $4.68          0.6%        $46,445\n",
      "4           India       $2.87        $9.56          4.2%         $2,100\n",
      "5  United Kingdom       $2.83        $3.25          1.5%        $42,330\n",
      "6          France       $2.72        $3.32          1.5%      $40,493.9\n",
      "7           Italy       $2.00        $2.67          0.3%      $33,228.2\n",
      "8          Brazil       $1.84        $3.23          1.1%         $8,717\n",
      "9          Canada       $1.74        $1.93          1.7%        $46,195\n"
     ]
    }
   ],
   "source": [
    "# Converting the above dict into the dataframe\n",
    "\n",
    "df = pd.DataFrame(top_countries)\n",
    "## we used pandas library to convert the list of dictionaries into a table, \n",
    "##the way it works is by taking the key of each dictionary and \n",
    "## making it the column name and placing the values under it.\n",
    "print(df)"
   ]
  },
  {
   "cell_type": "code",
   "execution_count": 6,
   "metadata": {},
   "outputs": [],
   "source": [
    "#exporting our dataframe into a CSV file\n",
    "    \n",
    "df.to_csv(r'C:\\Users\\daian\\Desktop\\cis-python\\finalproject.csv', index = False)"
   ]
  }
 ],
 "metadata": {
  "kernelspec": {
   "display_name": "Python 3",
   "language": "python",
   "name": "python3"
  },
  "language_info": {
   "codemirror_mode": {
    "name": "ipython",
    "version": 3
   },
   "file_extension": ".py",
   "mimetype": "text/x-python",
   "name": "python",
   "nbconvert_exporter": "python",
   "pygments_lexer": "ipython3",
   "version": "3.8.8"
  }
 },
 "nbformat": 4,
 "nbformat_minor": 4
}
